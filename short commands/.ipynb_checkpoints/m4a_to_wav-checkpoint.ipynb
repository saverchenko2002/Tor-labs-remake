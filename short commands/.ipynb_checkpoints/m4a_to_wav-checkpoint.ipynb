{
 "cells": [
  {
   "cell_type": "code",
   "execution_count": 2,
   "id": "b11ba561-0057-4a36-8c12-98c2c3fd4505",
   "metadata": {},
   "outputs": [],
   "source": [
    "import os\n",
    "from pydub import AudioSegment"
   ]
  },
  {
   "cell_type": "code",
   "execution_count": 3,
   "id": "83d2eca3-ade2-41d6-a9f1-39171e313e3f",
   "metadata": {},
   "outputs": [],
   "source": [
    "input_folder = \"manual recordings\"\n",
    "output_folder = \"casted manual recordings\""
   ]
  },
  {
   "cell_type": "code",
   "execution_count": 4,
   "id": "3151ade3-bb28-4b12-a1f2-32a84b5bcf6a",
   "metadata": {},
   "outputs": [],
   "source": [
    "files = os.listdir(input_folder)\n",
    "\n",
    "for file_name in files:\n",
    "    if file_name.endswith(\".m4a\"):\n",
    "        audio = AudioSegment.from_file(os.path.join(input_folder, file_name), format=\"m4a\")\n",
    "        \n",
    "        file_name_without_extension = os.path.splitext(file_name)[0]\n",
    "        \n",
    "        output_path = os.path.join(output_folder, f\"{file_name_without_extension}.wav\")\n",
    "        audio.export(output_path, format=\"wav\")"
   ]
  }
 ],
 "metadata": {
  "kernelspec": {
   "display_name": "Python 3",
   "language": "python",
   "name": "python3"
  },
  "language_info": {
   "codemirror_mode": {
    "name": "ipython",
    "version": 3
   },
   "file_extension": ".py",
   "mimetype": "text/x-python",
   "name": "python",
   "nbconvert_exporter": "python",
   "pygments_lexer": "ipython3",
   "version": "3.9.2"
  }
 },
 "nbformat": 4,
 "nbformat_minor": 5
}
