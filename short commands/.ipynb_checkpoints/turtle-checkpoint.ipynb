{
 "cells": [
  {
   "cell_type": "code",
   "execution_count": 1,
   "id": "b42f6988-cf19-4bf6-9ead-3a0d59495040",
   "metadata": {},
   "outputs": [],
   "source": [
    "import tensorflow as tf\n",
    "import numpy as np\n",
    "import pyaudio\n",
    "from tensorflow.keras import models\n",
    "import turtle\n",
    "import webrtcvad"
   ]
  },
  {
   "cell_type": "code",
   "execution_count": 2,
   "id": "1e324ce7-a0df-4883-8e70-9b0b76ab57e1",
   "metadata": {},
   "outputs": [],
   "source": [
    "vad = webrtcvad.Vad()\n",
    "vad.set_mode(2)\n",
    "fs=16000"
   ]
  },
  {
   "cell_type": "code",
   "execution_count": 3,
   "id": "65e179df-7661-4a21-9851-1c7f0b974336",
   "metadata": {},
   "outputs": [],
   "source": [
    "def detect_voice_activity(audio):\n",
    "    is_voice_active = vad.is_speech(audio, fs)  # fs - частота дискретизации аудио\n",
    "    return is_voice_active"
   ]
  },
  {
   "cell_type": "code",
   "execution_count": 4,
   "id": "51058e82-ca30-4601-abd6-d215aa17aec7",
   "metadata": {},
   "outputs": [],
   "source": [
    "MIN_VOICE_ACTIVITY_DURATION = 1  # Минимальная продолжительность голосовой активности (в секундах)\n",
    "FRAME_SIZE = 320  # Размер аудиофрейма для VAD"
   ]
  },
  {
   "cell_type": "code",
   "execution_count": 5,
   "id": "2bd6c9e2-8f19-4243-b214-aee566b8ec09",
   "metadata": {},
   "outputs": [],
   "source": [
    "def get_command_from_microphone():\n",
    "    frames = []\n",
    "    while True:\n",
    "        audio_frame = record_audio()  # Запись аудиофрейма с микрофона\n",
    "        frames.append(audio_frame)\n",
    "        if len(frames) * FRAME_SIZE >= MIN_VOICE_ACTIVITY_DURATION * fs:\n",
    "            break  # Если продолжительность голосовой активности достигла MIN_VOICE_ACTIVITY_DURATION секунд, выходим из цикла записи\n",
    "        if not detect_voice_activity(audio_frame):\n",
    "            frames = []  # Очищаем накопленные фреймы, если голосовая активность прекратилась\n",
    "    audio = np.concatenate(frames)\n",
    "    command = predict_command(audio)\n",
    "    return command"
   ]
  },
  {
   "cell_type": "code",
   "execution_count": 6,
   "id": "35e02593-4113-4f3e-8dfe-4bf98cba0249",
   "metadata": {},
   "outputs": [],
   "source": [
    "seed = 42\n",
    "tf.random.set_seed(seed)\n",
    "np.random.seed(seed)\n",
    "tf.keras.utils.set_random_seed(seed)"
   ]
  },
  {
   "cell_type": "code",
   "execution_count": 7,
   "id": "e83d31b5-4f89-4dd6-94aa-8eb0c0478dbc",
   "metadata": {},
   "outputs": [],
   "source": [
    "def get_spectrogram(waveform):\n",
    "    input_len = 16000\n",
    "    waveform = waveform[:input_len]\n",
    "    zero_padding = tf.zeros(\n",
    "        [input_len] - tf.shape(waveform),\n",
    "        dtype=tf.float32)\n",
    "    waveform = tf.cast(waveform, dtype=tf.float32)\n",
    "    equal_length = tf.concat([waveform, zero_padding], 0)\n",
    "    spectrogram = tf.signal.stft(\n",
    "        equal_length, frame_length=255, frame_step=128)\n",
    "    spectrogram = tf.abs(spectrogram)\n",
    "    spectrogram = spectrogram[..., tf.newaxis]\n",
    "    return spectrogram"
   ]
  },
  {
   "cell_type": "code",
   "execution_count": 8,
   "id": "2a740589-99be-4d41-99fc-096444ceebfb",
   "metadata": {},
   "outputs": [],
   "source": [
    "def preprocess_audiobuffer(waveform):\n",
    "    waveform = waveform / 32768\n",
    "    waveform = tf.convert_to_tensor(waveform, dtype=tf.float32)\n",
    "    spectrogram = get_spectrogram(waveform)\n",
    "    spectrogram=tf.expand_dims(spectrogram, 0)\n",
    "    return spectrogram"
   ]
  },
  {
   "cell_type": "code",
   "execution_count": null,
   "id": "5a03eeab-d286-4761-b734-56245eefb307",
   "metadata": {},
   "outputs": [],
   "source": []
  },
  {
   "cell_type": "code",
   "execution_count": 9,
   "id": "1d24dfcb-ed7b-40b1-9dc8-a3a82f30be4d",
   "metadata": {},
   "outputs": [],
   "source": [
    "FRAMES_PER_BUFFER = 320\n",
    "FORMAT = pyaudio.paInt16\n",
    "CHANNELS = 1\n",
    "RATE = 16000\n",
    "p = pyaudio.PyAudio()"
   ]
  },
  {
   "cell_type": "code",
   "execution_count": 10,
   "id": "348e25f4-109a-45ee-be82-1644ca51d34c",
   "metadata": {},
   "outputs": [],
   "source": [
    "def record_audio():\n",
    "    stream = p.open(\n",
    "        format=FORMAT,\n",
    "        channels=CHANNELS,\n",
    "        rate=RATE,\n",
    "        input=True,\n",
    "        frames_per_buffer=FRAMES_PER_BUFFER\n",
    "    )\n",
    "\n",
    "    print(\"start recording...\")\n",
    "\n",
    "    frames = []\n",
    "    seconds = 1\n",
    "    for i in range(0, int(RATE / FRAMES_PER_BUFFER * seconds)):\n",
    "        data = stream.read(FRAMES_PER_BUFFER)\n",
    "        frames.append(data)\n",
    "\n",
    "    print(\"recording stopped\")\n",
    "\n",
    "    stream.stop_stream()\n",
    "    stream.close()\n",
    "    \n",
    "    return np.frombuffer(b''.join(frames), dtype=np.int16)\n",
    "\n",
    "\n",
    "def terminate():\n",
    "    p.terminate()"
   ]
  },
  {
   "cell_type": "code",
   "execution_count": null,
   "id": "f40b27f2-7649-476c-9286-3a991918f983",
   "metadata": {},
   "outputs": [],
   "source": []
  },
  {
   "cell_type": "code",
   "execution_count": 11,
   "id": "28560021-656d-42b5-89fb-9ebe4d6c4bf9",
   "metadata": {},
   "outputs": [],
   "source": [
    "commands = ['down', 'go', 'left', 'right', 'stop', 'up']"
   ]
  },
  {
   "cell_type": "code",
   "execution_count": 12,
   "id": "9d5a0516-110a-4890-b2f0-71fa89d4ce2b",
   "metadata": {},
   "outputs": [
    {
     "name": "stderr",
     "output_type": "stream",
     "text": [
      "WARNING:absl:Compiled the loaded model, but the compiled metrics have yet to be built. `model.compile_metrics` will be empty until you train or evaluate the model.\n"
     ]
    }
   ],
   "source": [
    "model = models.load_model('model.h5')"
   ]
  },
  {
   "cell_type": "code",
   "execution_count": null,
   "id": "f4f51983-6b06-4d45-a2f6-329cf9778c38",
   "metadata": {},
   "outputs": [],
   "source": []
  },
  {
   "cell_type": "code",
   "execution_count": 13,
   "id": "327c243d-4a98-4605-be55-2f53c1aa3d55",
   "metadata": {},
   "outputs": [],
   "source": [
    "def predict_mic():\n",
    "    audio = record_audio()\n",
    "    \n",
    "    if np.max(np.abs(audio)) < 1000:\n",
    "        print(\"Нет звука. Пропускаем предсказание.\")\n",
    "        return None\n",
    "    \n",
    "    spec = preprocess_audiobuffer(audio)\n",
    "    prediction = model(spec)\n",
    "    print(prediction)\n",
    "    confidence = np.max(tf.nn.softmax(prediction))\n",
    "    print('Confidence: ', confidence)\n",
    "    if confidence < 0.8:\n",
    "        print(\"Недостаточно уверенное предсказание. Пропускаем.\")\n",
    "        label_pred = np.argmax(prediction, axis=1)\n",
    "        print(label_pred)\n",
    "        command = commands[label_pred[0]]\n",
    "        print('Predicted label: ', command)\n",
    "        return None\n",
    "    label_pred = np.argmax(prediction, axis=1)\n",
    "    print(label_pred)\n",
    "    command = commands[label_pred[0]]\n",
    "    print('Predicted label: ', command)\n",
    "    return command"
   ]
  },
  {
   "cell_type": "code",
   "execution_count": null,
   "id": "1110c982-5fd3-4ff1-81f6-2c3978440bf7",
   "metadata": {},
   "outputs": [],
   "source": []
  },
  {
   "cell_type": "code",
   "execution_count": null,
   "id": "13d998ef-dae3-4c7b-b534-6993bfcba4d3",
   "metadata": {},
   "outputs": [],
   "source": []
  },
  {
   "cell_type": "code",
   "execution_count": 14,
   "id": "027197ca-13fd-46b4-b17f-43561af86f4c",
   "metadata": {},
   "outputs": [
    {
     "name": "stdout",
     "output_type": "stream",
     "text": [
      "start recording...\n",
      "recording stopped\n"
     ]
    },
    {
     "ename": "NameError",
     "evalue": "name 'fs' is not defined",
     "output_type": "error",
     "traceback": [
      "\u001b[1;31m---------------------------------------------------------------------------\u001b[0m",
      "\u001b[1;31mNameError\u001b[0m                                 Traceback (most recent call last)",
      "\u001b[1;32m<ipython-input-14-ba10ac545850>\u001b[0m in \u001b[0;36m<module>\u001b[1;34m\u001b[0m\n\u001b[0;32m     84\u001b[0m \u001b[1;33m\u001b[0m\u001b[0m\n\u001b[0;32m     85\u001b[0m \u001b[1;32mwhile\u001b[0m \u001b[1;32mTrue\u001b[0m\u001b[1;33m:\u001b[0m\u001b[1;33m\u001b[0m\u001b[1;33m\u001b[0m\u001b[0m\n\u001b[1;32m---> 86\u001b[1;33m     \u001b[0mcommand\u001b[0m \u001b[1;33m=\u001b[0m \u001b[0mget_command_from_microphone\u001b[0m\u001b[1;33m(\u001b[0m\u001b[1;33m)\u001b[0m\u001b[1;33m\u001b[0m\u001b[1;33m\u001b[0m\u001b[0m\n\u001b[0m\u001b[0;32m     87\u001b[0m     \u001b[1;32mif\u001b[0m \u001b[0mcommand\u001b[0m \u001b[1;32mis\u001b[0m \u001b[1;32mNone\u001b[0m\u001b[1;33m:\u001b[0m\u001b[1;33m\u001b[0m\u001b[1;33m\u001b[0m\u001b[0m\n\u001b[0;32m     88\u001b[0m         \u001b[1;32mcontinue\u001b[0m\u001b[1;33m\u001b[0m\u001b[1;33m\u001b[0m\u001b[0m\n",
      "\u001b[1;32m<ipython-input-5-c6bb91bb5bc8>\u001b[0m in \u001b[0;36mget_command_from_microphone\u001b[1;34m()\u001b[0m\n\u001b[0;32m      4\u001b[0m         \u001b[0maudio_frame\u001b[0m \u001b[1;33m=\u001b[0m \u001b[0mrecord_audio\u001b[0m\u001b[1;33m(\u001b[0m\u001b[1;33m)\u001b[0m  \u001b[1;31m# Запись аудиофрейма с микрофона\u001b[0m\u001b[1;33m\u001b[0m\u001b[1;33m\u001b[0m\u001b[0m\n\u001b[0;32m      5\u001b[0m         \u001b[0mframes\u001b[0m\u001b[1;33m.\u001b[0m\u001b[0mappend\u001b[0m\u001b[1;33m(\u001b[0m\u001b[0maudio_frame\u001b[0m\u001b[1;33m)\u001b[0m\u001b[1;33m\u001b[0m\u001b[1;33m\u001b[0m\u001b[0m\n\u001b[1;32m----> 6\u001b[1;33m         \u001b[1;32mif\u001b[0m \u001b[0mlen\u001b[0m\u001b[1;33m(\u001b[0m\u001b[0mframes\u001b[0m\u001b[1;33m)\u001b[0m \u001b[1;33m*\u001b[0m \u001b[0mFRAME_SIZE\u001b[0m \u001b[1;33m>=\u001b[0m \u001b[0mMIN_VOICE_ACTIVITY_DURATION\u001b[0m \u001b[1;33m*\u001b[0m \u001b[0mfs\u001b[0m\u001b[1;33m:\u001b[0m\u001b[1;33m\u001b[0m\u001b[1;33m\u001b[0m\u001b[0m\n\u001b[0m\u001b[0;32m      7\u001b[0m             \u001b[1;32mbreak\u001b[0m  \u001b[1;31m# Если продолжительность голосовой активности достигла MIN_VOICE_ACTIVITY_DURATION секунд, выходим из цикла записи\u001b[0m\u001b[1;33m\u001b[0m\u001b[1;33m\u001b[0m\u001b[0m\n\u001b[0;32m      8\u001b[0m         \u001b[1;32mif\u001b[0m \u001b[1;32mnot\u001b[0m \u001b[0mdetect_voice_activity\u001b[0m\u001b[1;33m(\u001b[0m\u001b[0maudio_frame\u001b[0m\u001b[1;33m)\u001b[0m\u001b[1;33m:\u001b[0m\u001b[1;33m\u001b[0m\u001b[1;33m\u001b[0m\u001b[0m\n",
      "\u001b[1;31mNameError\u001b[0m: name 'fs' is not defined"
     ]
    }
   ],
   "source": [
    "s = turtle.getscreen()\n",
    "\n",
    "t = turtle.Turtle() # starts at right:\n",
    "\n",
    "size = t.turtlesize()\n",
    "increase = (2 * num for num in size)\n",
    "t.turtlesize(*increase)\n",
    "\n",
    "t.pensize(5)\n",
    "t.shapesize()\n",
    "t.pencolor(\"blue\")\n",
    "\n",
    "def go_right():\n",
    "    # target = 0\n",
    "    current = t.heading()\n",
    "    if current == 0:\n",
    "        pass\n",
    "    elif current == 90:\n",
    "        t.right(90)\n",
    "    elif current == 180:\n",
    "        t.right(180)\n",
    "    elif current == 270:\n",
    "        t.left(90)\n",
    "    else:\n",
    "        raise ValueError('not a right angle!')\n",
    "\n",
    "def go_up():\n",
    "    # target = 90\n",
    "    current = t.heading()\n",
    "    if current == 0:\n",
    "        t.left(90)\n",
    "    elif current == 90:\n",
    "        pass\n",
    "    elif current == 180:\n",
    "        t.right(90)\n",
    "    elif current == 270:\n",
    "        t.left(180)\n",
    "    else:\n",
    "        raise ValueError('not a right angle!')\n",
    "    \n",
    "def go_left():\n",
    "    # target = 180\n",
    "    current = t.heading()\n",
    "    if current == 0:\n",
    "        t.left(180)\n",
    "    elif current == 90:\n",
    "        t.left(90)\n",
    "    elif current == 180:\n",
    "        pass\n",
    "    elif current == 270:\n",
    "        t.right(90)\n",
    "    else:\n",
    "        raise ValueError('not a right angle!')\n",
    "    \n",
    "def go_down():\n",
    "    # target = 270\n",
    "    current = t.heading()\n",
    "    if current == 0:\n",
    "        t.right(90)\n",
    "    elif current == 90:\n",
    "        t.right(180)\n",
    "    elif current == 180:\n",
    "        t.left(90)\n",
    "    elif current == 270:\n",
    "        pass\n",
    "    else:\n",
    "        raise ValueError('not a right angle!')\n",
    "\n",
    "\n",
    "def move_turtle(command):\n",
    "    if command == 'up':\n",
    "        go_up()\n",
    "    elif command == 'down':\n",
    "        go_down()\n",
    "    elif command == 'left':\n",
    "        go_left()\n",
    "    elif command == 'right':\n",
    "        go_right()\n",
    "    elif command == 'go':\n",
    "        t.forward(100)\n",
    "    elif command == 'stop':\n",
    "        s.bye()\n",
    "        print('Stopping the turtle')\n",
    "        \n",
    "while True:\n",
    "    command = get_command_from_microphone()\n",
    "    if command is None:\n",
    "        continue\n",
    "    move_turtle(command)\n",
    "    if command == \"stop\":\n",
    "        terminate()\n",
    "        break"
   ]
  },
  {
   "cell_type": "code",
   "execution_count": null,
   "id": "bebf88f0-4241-4639-ac16-e68c096c6209",
   "metadata": {},
   "outputs": [],
   "source": []
  },
  {
   "cell_type": "code",
   "execution_count": null,
   "id": "64191aca-b253-41b8-93f8-c88471064664",
   "metadata": {},
   "outputs": [],
   "source": []
  },
  {
   "cell_type": "code",
   "execution_count": null,
   "id": "c4f1bbbf-ddd0-4323-83b0-c6f899513c5f",
   "metadata": {},
   "outputs": [],
   "source": []
  },
  {
   "cell_type": "code",
   "execution_count": null,
   "id": "fa8a2156-e40c-400b-919f-847e0186f8f2",
   "metadata": {},
   "outputs": [],
   "source": []
  },
  {
   "cell_type": "code",
   "execution_count": null,
   "id": "4b26ac46-9804-4548-9c6b-be7bdc203810",
   "metadata": {},
   "outputs": [],
   "source": []
  }
 ],
 "metadata": {
  "kernelspec": {
   "display_name": "Python 3",
   "language": "python",
   "name": "python3"
  },
  "language_info": {
   "codemirror_mode": {
    "name": "ipython",
    "version": 3
   },
   "file_extension": ".py",
   "mimetype": "text/x-python",
   "name": "python",
   "nbconvert_exporter": "python",
   "pygments_lexer": "ipython3",
   "version": "3.9.2"
  }
 },
 "nbformat": 4,
 "nbformat_minor": 5
}
